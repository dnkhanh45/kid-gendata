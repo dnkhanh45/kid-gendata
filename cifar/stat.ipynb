{
 "cells": [
  {
   "cell_type": "code",
   "execution_count": 4,
   "metadata": {},
   "outputs": [],
   "source": [
    "import json \n",
    "\n",
    "with open(\"cifar10/pareto/CIFAR10_pareto_10clients_10class.json\",\"r\") as f:\n",
    "    data_idx = json.load(f)\n",
    "    \n"
   ]
  },
  {
   "cell_type": "code",
   "execution_count": 18,
   "metadata": {},
   "outputs": [
    {
     "name": "stdout",
     "output_type": "stream",
     "text": [
      "Client 0 has 885 samples\n",
      "Client 1 has 6 samples\n",
      "Client 2 has 3 samples\n",
      "Client 3 has 786 samples\n",
      "Client 4 has 8319 samples\n",
      "Client 5 has 1860 samples\n",
      "Client 6 has 57 samples\n",
      "Client 7 has 3855 samples\n",
      "Client 8 has 237 samples\n",
      "Client 9 has 72 samples\n",
      "Client 10 has 321 samples\n",
      "Client 11 has 1077 samples\n",
      "Client 12 has 3729 samples\n",
      "Client 13 has 222 samples\n",
      "Client 14 has 5091 samples\n",
      "Client 15 has 9 samples\n",
      "Client 16 has 759 samples\n",
      "Client 17 has 6 samples\n",
      "Client 18 has 393 samples\n",
      "Client 19 has 3 samples\n",
      "Total samples is 27690\n"
     ]
    }
   ],
   "source": [
    "sum = 0\n",
    "list_idxs = []\n",
    "for client in data_idx.keys():\n",
    "    \n",
    "    list_idx = data_idx[client]\n",
    "    list_idxs.append(len(list_idx))\n",
    "    sum += len(list_idx)\n",
    "    print(f\"Client {client} has {len(list_idx)} samples\")\n",
    "print(f\"Total samples is {sum}\")"
   ]
  },
  {
   "cell_type": "code",
   "execution_count": 10,
   "metadata": {},
   "outputs": [],
   "source": [
    "import pandas as pd\n",
    "df =pd.read_csv(\"cifar10/pareto/CIFAR10_pareto_10clients_10class_stat.csv\")"
   ]
  },
  {
   "cell_type": "code",
   "execution_count": 20,
   "metadata": {},
   "outputs": [
    {
     "data": {
      "text/plain": [
       "array([6408,   73,  521,  396,   61, 1340,  147, 2101, 1811, 1056, 5968,\n",
       "        179,  309,  166, 1322,  111, 4027,  101, 1224,  571])"
      ]
     },
     "execution_count": 20,
     "metadata": {},
     "output_type": "execute_result"
    }
   ],
   "source": [
    "df.values.sum(1)"
   ]
  },
  {
   "cell_type": "code",
   "execution_count": 24,
   "metadata": {},
   "outputs": [
    {
     "data": {
      "text/plain": [
       "array([6408,   72,  519,  393,   57, 1335,  141, 2094, 1803, 1047, 5958,\n",
       "        168,  297,  153, 1308,   96, 4011,   84, 1206,  552])"
      ]
     },
     "execution_count": 24,
     "metadata": {},
     "output_type": "execute_result"
    }
   ],
   "source": [
    "df.values[:,1:].sum(1)"
   ]
  },
  {
   "cell_type": "code",
   "execution_count": null,
   "metadata": {},
   "outputs": [],
   "source": []
  }
 ],
 "metadata": {
  "kernelspec": {
   "display_name": "longnd",
   "language": "python",
   "name": "python3"
  },
  "language_info": {
   "codemirror_mode": {
    "name": "ipython",
    "version": 3
   },
   "file_extension": ".py",
   "mimetype": "text/x-python",
   "name": "python",
   "nbconvert_exporter": "python",
   "pygments_lexer": "ipython3",
   "version": "3.7.11 (default, Jul 27 2021, 14:32:16) \n[GCC 7.5.0]"
  },
  "orig_nbformat": 4,
  "vscode": {
   "interpreter": {
    "hash": "9f784b053654bb8129a3cb1aa1762d7834caeb9ba8691a85058f59d7796858ce"
   }
  }
 },
 "nbformat": 4,
 "nbformat_minor": 2
}
